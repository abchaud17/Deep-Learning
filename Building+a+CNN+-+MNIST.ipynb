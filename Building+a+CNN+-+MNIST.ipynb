{
 "cells": [
  {
   "cell_type": "markdown",
   "metadata": {},
   "source": [
    "# Building a Basic CNN: The MNIST Dataset\n",
    "\n",
    "In this notebook, we will build a simple CNN-based architecture to classify the 10 digits (0-9) of the MNIST dataset. The objective of this notebook is to become familiar with the process of building CNNs in Keras.\n",
    "\n",
    "We will go through the following steps:\n",
    "1. Importing libraries and the dataset\n",
    "2. Data preparation: Train-test split, specifying the shape of the input data etc.\n",
    "3. Building and understanding the CNN architecture \n",
    "4. Fitting and evaluating the model\n",
    "\n",
    "Let's dive in."
   ]
  },
  {
   "cell_type": "markdown",
   "metadata": {},
   "source": [
    "## Importing Libraries and the Dataset\n",
    "\n",
    "Let's load the required libraries. From Keras, we need to import two main components:\n",
    "1. `Sequential` from `keras.models`: `Sequential` is the keras abstraction for creating models with a stack of layers (MLP has multiple hidden layers, CNNs have convolutional layers, etc.). \n",
    "2. Various types of layers from `keras.layers`: These layers are added (one after the other) to the `Sequential` model\n",
    "\n",
    "The keras `backend` is needed for keras to know that you are using tensorflow (not Theano) at the backend (the backend is <a href=\"https://keras.io/backend/\">specified in a JSON file</a>). \n"
   ]
  },
  {
   "cell_type": "code",
   "execution_count": 1,
   "metadata": {},
   "outputs": [],
   "source": [
    "import numpy as np\n",
    "import random\n",
    "import tensorflow as tf\n",
    "from tensorflow.keras.datasets import mnist\n",
    "from tensorflow.keras import Sequential\n",
    "from tensorflow.keras.layers import Dense, Dropout, Flatten, Conv2D, MaxPooling2D\n",
    "import warnings\n",
    "warnings.filterwarnings('ignore')"
   ]
  },
  {
   "cell_type": "markdown",
   "metadata": {},
   "source": [
    "Let's load the MNIST dataset from `keras.datasets`. The download may take a few minutes."
   ]
  },
  {
   "cell_type": "code",
   "execution_count": 2,
   "metadata": {},
   "outputs": [],
   "source": [
    "# load the dataset into train and test sets\n",
    "(x_train, y_train), (x_test, y_test) = mnist.load_data()"
   ]
  },
  {
   "cell_type": "code",
   "execution_count": 3,
   "metadata": {
    "scrolled": false
   },
   "outputs": [
    {
     "name": "stdout",
     "output_type": "stream",
     "text": [
      "train data\n",
      "(60000, 28, 28)\n",
      "(60000,)\n",
      "\n",
      " test data\n",
      "(10000, 28, 28)\n",
      "(10000,)\n"
     ]
    }
   ],
   "source": [
    "print(\"train data\")\n",
    "print(x_train.shape)\n",
    "print(y_train.shape)\n",
    "print(\"\\n test data\")\n",
    "print(x_test.shape)\n",
    "print(y_test.shape)"
   ]
  },
  {
   "cell_type": "markdown",
   "metadata": {},
   "source": [
    "So we have 60,000 training and 10,000 test images each of size 28 x 28. Note that the images are grayscale and thus are stored as 2D arrays.<br> \n",
    "\n",
    "Also, let's sample only 20k images for training (just to speed up the training a bit)."
   ]
  },
  {
   "cell_type": "code",
   "execution_count": 4,
   "metadata": {},
   "outputs": [
    {
     "name": "stdout",
     "output_type": "stream",
     "text": [
      "(20000, 28, 28)\n",
      "(20000,)\n"
     ]
    }
   ],
   "source": [
    "# sample only 20k images for training\n",
    "idx = np.random.randint(x_train.shape[0], size=20000) # sample 20k indices from 0-60,000\n",
    "x_train = x_train[idx, :]\n",
    "y_train = y_train[idx]\n",
    "print(x_train.shape)\n",
    "print(y_train.shape)"
   ]
  },
  {
   "cell_type": "markdown",
   "metadata": {},
   "source": [
    "##  Data Preparation\n",
    "\n",
    "Let's prepare the dataset for feeding to the network. We will do the following three main steps:<br>\n",
    "\n",
    "#### Reshape the Data\n",
    "First, let's understand the shape in which the network expects the training data. \n",
    "Since we have 20,000 training samples each of size (28, 28, 1), the training data (`x_train`) needs to be of the shape `(20000, 28, 28, 1)`. If the images were coloured, the shape would have been `(20000, 28, 28, 3)`.\n",
    "\n",
    "Further, each of the 20,000 images have a 0-9 label, so `y_train` needs to be of the shape `(20000, 10)` where each image's label is represented as a 10-d **one-hot encoded vector**.\n",
    "\n",
    "The shapes of `x_test` and `y_test` will be the same as that of `x_train` and `y_train` respectively.\n",
    "\n",
    "#### Rescaling (Normalisation)\n",
    "The value of each pixel is between 0-255, so we will **rescale each pixel** by dividing by 255 so that the range becomes 0-1. Recollect <a href=\"https://stats.stackexchange.com/questions/185853/why-do-we-need-to-normalize-the-images-before-we-put-them-into-cnn\">why normalisation is important for training NNs</a>.\n",
    "\n",
    "#### Converting Input Data Type: Int to Float\n",
    "The pixels are originally stored as type `int`, but it is advisable to feed the data as `float`. This is not really compulsory, but advisable. You can read <a href=\"https://datascience.stackexchange.com/questions/13636/neural-network-data-type-conversion-float-from-int\">why conversion from int to float is helpful here</a>.\n"
   ]
  },
  {
   "cell_type": "code",
   "execution_count": 5,
   "metadata": {},
   "outputs": [],
   "source": [
    "# specify input dimensions of each image\n",
    "img_rows, img_cols = 28, 28\n",
    "input_shape = (img_rows, img_cols, 1)\n",
    "\n",
    "# batch size, number of classes, epochs\n",
    "batch_size = 128\n",
    "num_classes = 10\n",
    "epochs = 50"
   ]
  },
  {
   "cell_type": "markdown",
   "metadata": {},
   "source": [
    "Let's now reshape the array `x_train` from shape `(20000, 28, 28)`to `(20000, 28, 28, 1)`. Analogously for `x_test`."
   ]
  },
  {
   "cell_type": "code",
   "execution_count": 6,
   "metadata": {
    "scrolled": true
   },
   "outputs": [
    {
     "name": "stdout",
     "output_type": "stream",
     "text": [
      "(20000, 28, 28, 1)\n",
      "(10000, 28, 28, 1)\n"
     ]
    }
   ],
   "source": [
    "# reshape x_train and x_test\n",
    "x_train = x_train.reshape(x_train.shape[0], img_rows, img_cols, 1)\n",
    "x_test = x_test.reshape(x_test.shape[0], img_rows, img_cols, 1)\n",
    "print(x_train.shape)\n",
    "print(x_test.shape)"
   ]
  },
  {
   "cell_type": "markdown",
   "metadata": {},
   "source": [
    "Now let's reshape `y_train` from `(20000,)` to `(20000, 10)`. This can be conveniently done using the keras' `utils` module."
   ]
  },
  {
   "cell_type": "code",
   "execution_count": 7,
   "metadata": {
    "scrolled": true
   },
   "outputs": [
    {
     "name": "stdout",
     "output_type": "stream",
     "text": [
      "(20000, 10)\n"
     ]
    }
   ],
   "source": [
    "# convert class labels (from digits) to one-hot encoded vectors\n",
    "y_train = tf.keras.utils.to_categorical(y_train, num_classes)\n",
    "y_test = tf.keras.utils.to_categorical(y_test, num_classes)\n",
    "print(y_train.shape)"
   ]
  },
  {
   "cell_type": "markdown",
   "metadata": {},
   "source": [
    "Finally, let's convert the data type of `x_train` and `x_test` from int to float and normalise the images."
   ]
  },
  {
   "cell_type": "code",
   "execution_count": 8,
   "metadata": {},
   "outputs": [
    {
     "data": {
      "text/plain": [
       "dtype('uint8')"
      ]
     },
     "execution_count": 8,
     "metadata": {},
     "output_type": "execute_result"
    }
   ],
   "source": [
    "# originally, the pixels are stored as ints\n",
    "x_train.dtype"
   ]
  },
  {
   "cell_type": "code",
   "execution_count": 9,
   "metadata": {},
   "outputs": [],
   "source": [
    "# convert int to float\n",
    "x_train = x_train.astype('float32')\n",
    "x_test = x_test.astype('float32')\n",
    "\n",
    "# normalise\n",
    "x_train /= 255\n",
    "x_test /= 255"
   ]
  },
  {
   "cell_type": "markdown",
   "metadata": {},
   "source": [
    "## Building the Model"
   ]
  },
  {
   "cell_type": "markdown",
   "metadata": {},
   "source": [
    "Let's now build the CNN architecture. For the MNIST dataset, we do not need to build a very sophisticated CNN - a simple shallow-ish CNN would suffice. \n",
    "\n",
    "We will build a network with:\n",
    "- two convolutional layers having 32 and 64 filters respectively, \n",
    "- followed by a max pooling layer, \n",
    "- and then `Flatten` the output of the pooling layer to give us a long vector, \n",
    "- then add a fully connected `Dense` layer with 128 neurons, and finally\n",
    "- add a `softmax` layer with 10 neurons\n",
    "\n",
    "The generic way to build a model in Keras is to instantiate a `Sequential` model and keep adding `keras.layers` to it. We will also use some dropouts."
   ]
  },
  {
   "cell_type": "code",
   "execution_count": 10,
   "metadata": {
    "scrolled": false
   },
   "outputs": [
    {
     "name": "stdout",
     "output_type": "stream",
     "text": [
      "Model: \"sequential\"\n",
      "_________________________________________________________________\n",
      "Layer (type)                 Output Shape              Param #   \n",
      "=================================================================\n",
      "conv2d (Conv2D)              (None, 26, 26, 16)        160       \n",
      "_________________________________________________________________\n",
      "conv2d_1 (Conv2D)            (None, 24, 24, 32)        4640      \n",
      "_________________________________________________________________\n",
      "conv2d_2 (Conv2D)            (None, 22, 22, 64)        18496     \n",
      "_________________________________________________________________\n",
      "max_pooling2d (MaxPooling2D) (None, 11, 11, 64)        0         \n",
      "_________________________________________________________________\n",
      "dropout (Dropout)            (None, 11, 11, 64)        0         \n",
      "_________________________________________________________________\n",
      "flatten (Flatten)            (None, 7744)              0         \n",
      "_________________________________________________________________\n",
      "dense (Dense)                (None, 512)               3965440   \n",
      "_________________________________________________________________\n",
      "dropout_1 (Dropout)          (None, 512)               0         \n",
      "_________________________________________________________________\n",
      "dense_1 (Dense)              (None, 10)                5130      \n",
      "=================================================================\n",
      "Total params: 3,993,866\n",
      "Trainable params: 3,993,866\n",
      "Non-trainable params: 0\n",
      "_________________________________________________________________\n"
     ]
    }
   ],
   "source": [
    "# model\n",
    "model = Sequential()\n",
    "\n",
    "# a keras convolutional layer is called Conv2D\n",
    "# help(Conv2D)\n",
    "# note that the first layer needs to be told the input shape explicitly\n",
    "\n",
    "# first conv layer\n",
    "\n",
    "model.add(Conv2D(16, kernel_size=(3, 3),\n",
    "                 activation='relu',\n",
    "                 input_shape=input_shape)) # input shape = (img_rows, img_cols, 1)\n",
    "\n",
    "model.add(Conv2D(32, kernel_size=(3, 3),\n",
    "                 activation='relu',\n",
    "                 input_shape=input_shape)) # input shape = (img_rows, img_cols, 1)\n",
    "\n",
    "# second conv layer\n",
    "model.add(Conv2D(64, kernel_size=(3, 3), \n",
    "                 activation='relu'))\n",
    "model.add(MaxPooling2D(pool_size=(2, 2)))\n",
    "model.add(Dropout(0.25))\n",
    "\n",
    "# flatten and put a fully connected layer\n",
    "model.add(Flatten())\n",
    "model.add(Dense(512, activation='relu')) # fully connected\n",
    "model.add(Dropout(0.25))\n",
    "\n",
    "# softmax layer\n",
    "model.add(Dense(num_classes, activation='softmax'))\n",
    "\n",
    "# model summary\n",
    "model.summary()\n"
   ]
  },
  {
   "cell_type": "markdown",
   "metadata": {},
   "source": [
    "#### Understanding Model Summary\n",
    "\n",
    "It is a good practice to spend some time staring at the model summary above and verify the number of parameteres, output sizes etc. Let's do some calculations to verify that we understand the model deeply enough. \n",
    "\n",
    "- Layer-1 (Conv2D): We have used 32 kernels of size (3, 3), and each kernel has a single bias, so we have 32 x 3 x 3 (weights) + 32 (biases) = 320 parameters (all trainable). Note that the kernels have only one channel since the input images are 2D (grayscale). By default, a convolutional layer uses stride of 1 and no padding, so the output from this layer is of shape 26 x 26 x 32, as shown in the summary above (the first element `None` is for the batch size).\n",
    "\n",
    "- Layer-2 (Conv2D): We have used 64 kernels of size (3, 3), but this time, each kernel has to convolve a tensor of size (26, 26, 32) from the previous layer. Thus, the kernels will also have 32 channels, and so the shape of each kernel is (3, 3, 32) (and we have 64 of them). So we have 64 x 3 x 3 x 32 (weights) + 64 (biases) = 18496 parameters (all trainable). The output shape is (24, 24, 64) since each kernel produces a (24, 24) feature map.\n",
    "\n",
    "- Max pooling: The pooling layer gets the (24, 24, 64) input from the previous conv layer and produces a (12, 12, 64) output (the default pooling uses stride of 2). There are no trainable parameters in the pooling layer.\n",
    "\n",
    "- The `Dropout` layer does not alter the output shape and has no trainable parameters.\n",
    "\n",
    "- The `Flatten` layer simply takes in the (12, 12, 64) output from the previous layer and 'flattens' it into a vector of length 12 x 12 x 64 = 9216.\n",
    "\n",
    "- The `Dense` layer is a plain fully connected layer with 128 neurons. It takes the 9216-dimensional output vector from the previous layer (layer l-1) as the input and has 128 x 9216 (weights) + 128 (biases) =  1179776 trainable parameters. The output of this layer is a 128-dimensional vector.\n",
    "\n",
    "- The `Dropout` layer simply drops a few neurons.\n",
    "\n",
    "- Finally, we have a `Dense` softmax layer with 10 neurons which takes the 128-dimensional vector from the previous layer as input. It has 128 x 10 (weights) + 10 (biases) = 1290 trainable parameters.\n",
    "\n",
    "Thus, the total number of parameters are 1,199,882 all of which are trainable."
   ]
  },
  {
   "cell_type": "markdown",
   "metadata": {},
   "source": [
    "## Fitting and Evaluating the Model\n",
    "\n",
    "Let's now compile and train the model."
   ]
  },
  {
   "cell_type": "code",
   "execution_count": 11,
   "metadata": {},
   "outputs": [],
   "source": [
    "# usual cross entropy loss\n",
    "# choose any optimiser such as adam, rmsprop etc\n",
    "# metric is accuracy\n",
    "model.compile(loss=tf.keras.losses.categorical_crossentropy,\n",
    "              optimizer=tf.keras.optimizers.Adadelta(),\n",
    "              metrics=['accuracy'])"
   ]
  },
  {
   "cell_type": "code",
   "execution_count": 12,
   "metadata": {
    "scrolled": false
   },
   "outputs": [
    {
     "name": "stdout",
     "output_type": "stream",
     "text": [
      "WARNING:tensorflow:From C:\\Users\\abhis\\anaconda3\\envs\\tensorflow-gpu\\lib\\site-packages\\tensorflow\\python\\ops\\array_ops.py:5102: calling gather (from tensorflow.python.ops.array_ops) with validate_indices is deprecated and will be removed in a future version.\n",
      "Instructions for updating:\n",
      "The `validate_indices` argument has no effect. Indices are always validated on CPU and never validated on GPU.\n",
      "Epoch 1/50\n",
      "157/157 [==============================] - 7s 22ms/step - loss: 2.2958 - accuracy: 0.1191 - val_loss: 2.2814 - val_accuracy: 0.1622\n",
      "Epoch 2/50\n",
      "157/157 [==============================] - 3s 19ms/step - loss: 2.2745 - accuracy: 0.1708 - val_loss: 2.2574 - val_accuracy: 0.2221\n",
      "Epoch 3/50\n",
      "157/157 [==============================] - 3s 20ms/step - loss: 2.2520 - accuracy: 0.2178 - val_loss: 2.2310 - val_accuracy: 0.2932\n",
      "Epoch 4/50\n",
      "157/157 [==============================] - 3s 19ms/step - loss: 2.2260 - accuracy: 0.2717 - val_loss: 2.2006 - val_accuracy: 0.3635\n",
      "Epoch 5/50\n",
      "157/157 [==============================] - 3s 19ms/step - loss: 2.1957 - accuracy: 0.3216 - val_loss: 2.1639 - val_accuracy: 0.4318\n",
      "Epoch 6/50\n",
      "157/157 [==============================] - 3s 19ms/step - loss: 2.1594 - accuracy: 0.3744 - val_loss: 2.1185 - val_accuracy: 0.5023\n",
      "Epoch 7/50\n",
      "157/157 [==============================] - 3s 19ms/step - loss: 2.1122 - accuracy: 0.4309 - val_loss: 2.0607 - val_accuracy: 0.5820\n",
      "Epoch 8/50\n",
      "157/157 [==============================] - 3s 19ms/step - loss: 2.0511 - accuracy: 0.5000 - val_loss: 1.9853 - val_accuracy: 0.6466: 2.0562 - ac\n",
      "Epoch 9/50\n",
      "157/157 [==============================] - 3s 19ms/step - loss: 1.9714 - accuracy: 0.5545 - val_loss: 1.8864 - val_accuracy: 0.6980\n",
      "Epoch 10/50\n",
      "157/157 [==============================] - 3s 20ms/step - loss: 1.8703 - accuracy: 0.6105 - val_loss: 1.7589 - val_accuracy: 0.7376\n",
      "Epoch 11/50\n",
      "157/157 [==============================] - 3s 20ms/step - loss: 1.7372 - accuracy: 0.6553 - val_loss: 1.5978 - val_accuracy: 0.7714\n",
      "Epoch 12/50\n",
      "157/157 [==============================] - 3s 20ms/step - loss: 1.5781 - accuracy: 0.6858 - val_loss: 1.4100 - val_accuracy: 0.7908\n",
      "Epoch 13/50\n",
      "157/157 [==============================] - 3s 19ms/step - loss: 1.3994 - accuracy: 0.7085 - val_loss: 1.2142 - val_accuracy: 0.8056\n",
      "Epoch 14/50\n",
      "157/157 [==============================] - 3s 19ms/step - loss: 1.2267 - accuracy: 0.7254 - val_loss: 1.0364 - val_accuracy: 0.8162\n",
      "Epoch 15/50\n",
      "157/157 [==============================] - 3s 19ms/step - loss: 1.0766 - accuracy: 0.7393 - val_loss: 0.8919 - val_accuracy: 0.8253\n",
      "Epoch 16/50\n",
      "157/157 [==============================] - 3s 19ms/step - loss: 0.9565 - accuracy: 0.7539 - val_loss: 0.7831 - val_accuracy: 0.8338\n",
      "Epoch 17/50\n",
      "157/157 [==============================] - 3s 20ms/step - loss: 0.8690 - accuracy: 0.7663 - val_loss: 0.7028 - val_accuracy: 0.8411\n",
      "Epoch 18/50\n",
      "157/157 [==============================] - 3s 19ms/step - loss: 0.8063 - accuracy: 0.7685 - val_loss: 0.6425 - val_accuracy: 0.8493\n",
      "Epoch 19/50\n",
      "157/157 [==============================] - 3s 19ms/step - loss: 0.7545 - accuracy: 0.7804 - val_loss: 0.5969 - val_accuracy: 0.8550\n",
      "Epoch 20/50\n",
      "157/157 [==============================] - 3s 19ms/step - loss: 0.7133 - accuracy: 0.7918 - val_loss: 0.5610 - val_accuracy: 0.8605\n",
      "Epoch 21/50\n",
      "157/157 [==============================] - 3s 19ms/step - loss: 0.6809 - accuracy: 0.7974 - val_loss: 0.5326 - val_accuracy: 0.8637\n",
      "Epoch 22/50\n",
      "157/157 [==============================] - 3s 19ms/step - loss: 0.6562 - accuracy: 0.8036 - val_loss: 0.5093 - val_accuracy: 0.8689\n",
      "Epoch 23/50\n",
      "157/157 [==============================] - 3s 20ms/step - loss: 0.6360 - accuracy: 0.8055 - val_loss: 0.4902 - val_accuracy: 0.8718\n",
      "Epoch 24/50\n",
      "157/157 [==============================] - 3s 19ms/step - loss: 0.6216 - accuracy: 0.8120 - val_loss: 0.4742 - val_accuracy: 0.8755\n",
      "Epoch 25/50\n",
      "157/157 [==============================] - 3s 20ms/step - loss: 0.6031 - accuracy: 0.8164 - val_loss: 0.4600 - val_accuracy: 0.8783\n",
      "Epoch 26/50\n",
      "157/157 [==============================] - 3s 19ms/step - loss: 0.5886 - accuracy: 0.8206 - val_loss: 0.4479 - val_accuracy: 0.8802\n",
      "Epoch 27/50\n",
      "157/157 [==============================] - 3s 19ms/step - loss: 0.5734 - accuracy: 0.8239 - val_loss: 0.4370 - val_accuracy: 0.8825\n",
      "Epoch 28/50\n",
      "157/157 [==============================] - 3s 19ms/step - loss: 0.5619 - accuracy: 0.8274 - val_loss: 0.4274 - val_accuracy: 0.8851\n",
      "Epoch 29/50\n",
      "157/157 [==============================] - 3s 20ms/step - loss: 0.5558 - accuracy: 0.8278 - val_loss: 0.4186 - val_accuracy: 0.8868\n",
      "Epoch 30/50\n",
      "157/157 [==============================] - 3s 20ms/step - loss: 0.5365 - accuracy: 0.8363 - val_loss: 0.4106 - val_accuracy: 0.8887\n",
      "Epoch 31/50\n",
      "157/157 [==============================] - 3s 20ms/step - loss: 0.5328 - accuracy: 0.8378 - val_loss: 0.4032 - val_accuracy: 0.8896\n",
      "Epoch 32/50\n",
      "157/157 [==============================] - 3s 20ms/step - loss: 0.5219 - accuracy: 0.8409 - val_loss: 0.3963 - val_accuracy: 0.8910\n",
      "Epoch 33/50\n",
      "157/157 [==============================] - 3s 20ms/step - loss: 0.5150 - accuracy: 0.8434 - val_loss: 0.3904 - val_accuracy: 0.8918\n",
      "Epoch 34/50\n",
      "157/157 [==============================] - 3s 20ms/step - loss: 0.5127 - accuracy: 0.8439 - val_loss: 0.3846 - val_accuracy: 0.8931\n",
      "Epoch 35/50\n",
      "157/157 [==============================] - 3s 20ms/step - loss: 0.4954 - accuracy: 0.8482 - val_loss: 0.3794 - val_accuracy: 0.8931\n",
      "Epoch 36/50\n",
      "157/157 [==============================] - 3s 20ms/step - loss: 0.4980 - accuracy: 0.8472 - val_loss: 0.3744 - val_accuracy: 0.8961- loss: 0.5117 - accuracy: 0.84\n",
      "Epoch 37/50\n",
      "157/157 [==============================] - 3s 20ms/step - loss: 0.4938 - accuracy: 0.8490 - val_loss: 0.3695 - val_accuracy: 0.8960\n",
      "Epoch 38/50\n",
      "157/157 [==============================] - 3s 20ms/step - loss: 0.4803 - accuracy: 0.8523 - val_loss: 0.3650 - val_accuracy: 0.8970\n",
      "Epoch 39/50\n",
      "157/157 [==============================] - 3s 20ms/step - loss: 0.4807 - accuracy: 0.8515 - val_loss: 0.3617 - val_accuracy: 0.8988\n",
      "Epoch 40/50\n",
      "157/157 [==============================] - 3s 20ms/step - loss: 0.4793 - accuracy: 0.8526 - val_loss: 0.3574 - val_accuracy: 0.9003\n",
      "Epoch 41/50\n",
      "157/157 [==============================] - 3s 21ms/step - loss: 0.4696 - accuracy: 0.8547 - val_loss: 0.3531 - val_accuracy: 0.9011\n",
      "Epoch 42/50\n",
      "157/157 [==============================] - 3s 20ms/step - loss: 0.4606 - accuracy: 0.8602 - val_loss: 0.3499 - val_accuracy: 0.9020\n",
      "Epoch 43/50\n",
      "157/157 [==============================] - 3s 20ms/step - loss: 0.4561 - accuracy: 0.8613 - val_loss: 0.3465 - val_accuracy: 0.9026- loss: 0.4569 - accuracy\n",
      "Epoch 44/50\n",
      "157/157 [==============================] - 3s 20ms/step - loss: 0.4581 - accuracy: 0.8626 - val_loss: 0.3430 - val_accuracy: 0.9028\n",
      "Epoch 45/50\n",
      "157/157 [==============================] - 3s 20ms/step - loss: 0.4505 - accuracy: 0.8627 - val_loss: 0.3398 - val_accuracy: 0.9035loss: 0.4\n",
      "Epoch 46/50\n",
      "157/157 [==============================] - 3s 20ms/step - loss: 0.4424 - accuracy: 0.8672 - val_loss: 0.3369 - val_accuracy: 0.9045\n",
      "Epoch 47/50\n",
      "157/157 [==============================] - 3s 20ms/step - loss: 0.4406 - accuracy: 0.8650 - val_loss: 0.3338 - val_accuracy: 0.9055\n",
      "Epoch 48/50\n",
      "157/157 [==============================] - 3s 20ms/step - loss: 0.4424 - accuracy: 0.8670 - val_loss: 0.3308 - val_accuracy: 0.9063\n",
      "Epoch 49/50\n",
      "157/157 [==============================] - 3s 21ms/step - loss: 0.4376 - accuracy: 0.8671 - val_loss: 0.3286 - val_accuracy: 0.9073\n",
      "Epoch 50/50\n",
      "157/157 [==============================] - 3s 20ms/step - loss: 0.4356 - accuracy: 0.8674 - val_loss: 0.3260 - val_accuracy: 0.9077\n"
     ]
    },
    {
     "data": {
      "text/plain": [
       "<keras.callbacks.History at 0x23ebf446348>"
      ]
     },
     "execution_count": 12,
     "metadata": {},
     "output_type": "execute_result"
    }
   ],
   "source": [
    "# fit the model\n",
    "# this should take around 10-15 minutes when run locally on a windows/mac PC \n",
    "model.fit(x_train, y_train,\n",
    "          batch_size=batch_size,\n",
    "          epochs=epochs,\n",
    "          verbose=1,\n",
    "          validation_data=(x_test, y_test))"
   ]
  },
  {
   "cell_type": "code",
   "execution_count": 13,
   "metadata": {
    "scrolled": false
   },
   "outputs": [
    {
     "name": "stdout",
     "output_type": "stream",
     "text": [
      "313/313 [==============================] - 1s 3ms/step - loss: 0.3260 - accuracy: 0.9077\n"
     ]
    },
    {
     "data": {
      "text/plain": [
       "[0.3259755074977875, 0.9077000021934509]"
      ]
     },
     "execution_count": 13,
     "metadata": {},
     "output_type": "execute_result"
    }
   ],
   "source": [
    "# evaluate the model on test data\n",
    "model.evaluate(x_test, y_test)"
   ]
  },
  {
   "cell_type": "code",
   "execution_count": 14,
   "metadata": {},
   "outputs": [
    {
     "name": "stdout",
     "output_type": "stream",
     "text": [
      "['loss', 'accuracy']\n"
     ]
    }
   ],
   "source": [
    "print(model.metrics_names)"
   ]
  },
  {
   "cell_type": "markdown",
   "metadata": {},
   "source": [
    "The final loss (on test data) is about 0.04 and the accuracy is 98.59%."
   ]
  }
 ],
 "metadata": {
  "kernelspec": {
   "display_name": "tensorflow-gpu",
   "language": "python",
   "name": "tensorflow-gpu"
  },
  "language_info": {
   "codemirror_mode": {
    "name": "ipython",
    "version": 3
   },
   "file_extension": ".py",
   "mimetype": "text/x-python",
   "name": "python",
   "nbconvert_exporter": "python",
   "pygments_lexer": "ipython3",
   "version": "3.7.9"
  },
  "latex_envs": {
   "LaTeX_envs_menu_present": true,
   "autoclose": false,
   "autocomplete": true,
   "bibliofile": "biblio.bib",
   "cite_by": "apalike",
   "current_citInitial": 1,
   "eqLabelWithNumbers": true,
   "eqNumInitial": 1,
   "hotkeys": {
    "equation": "Ctrl-E",
    "itemize": "Ctrl-I"
   },
   "labels_anchors": false,
   "latex_user_defs": false,
   "report_style_numbering": false,
   "user_envs_cfg": false
  },
  "toc": {
   "base_numbering": 1,
   "nav_menu": {},
   "number_sections": true,
   "sideBar": true,
   "skip_h1_title": false,
   "title_cell": "Table of Contents",
   "title_sidebar": "Contents",
   "toc_cell": false,
   "toc_position": {},
   "toc_section_display": true,
   "toc_window_display": false
  }
 },
 "nbformat": 4,
 "nbformat_minor": 2
}
